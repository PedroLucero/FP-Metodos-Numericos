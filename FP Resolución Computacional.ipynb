{
 "cells": [
  {
   "cell_type": "markdown",
   "id": "299212d2",
   "metadata": {},
   "source": [
    "#### Como pequeño prefacio definimos doolittle para matrices 3x3 ya que se resolverán muchísimos sistemas lineales"
   ]
  },
  {
   "cell_type": "code",
   "execution_count": 1,
   "id": "e7b846ab",
   "metadata": {},
   "outputs": [],
   "source": [
    "# Esto se puede generalizar, por ahora solo busco que sirva\n",
    "def doolittle3x3(A, b):\n",
    "    u11, u12, u13 = A[0]\n",
    "    l21 = A[1][0]/u11\n",
    "    l31 = A[2][0]/u11\n",
    "    u22 = A[1][1] - l21*u12\n",
    "    u23 = A[1][2] - l21*u13\n",
    "    l32 = (A[2][1] - l31*u12)/u22\n",
    "    u33 = A[2][2] - l31*u13 - l32*u23\n",
    "    \n",
    "    y1 = b[0]\n",
    "    y2 = b[1] - l21*y1\n",
    "    y3 = b[2] - l31*y1 - l32*y2\n",
    "    \n",
    "    x3 = y3/u33\n",
    "    x2 = (y2 - u23*x3)/u22\n",
    "    x1 = (y1 - u13*x3 - u12*x2)/u11\n",
    "    \n",
    "    return x1, x2, x3"
   ]
  },
  {
   "cell_type": "code",
   "execution_count": 2,
   "id": "15bfeaca",
   "metadata": {},
   "outputs": [],
   "source": [
    "# Es importante instalar, por lo menos, math\n",
    "# ya que representaremos funciones trigonométricas, etc.\n",
    "# O maybe solo tomaremos las f. que necesitamos?\n",
    "from math import *"
   ]
  },
  {
   "cell_type": "markdown",
   "id": "afcdee81",
   "metadata": {},
   "source": [
    "# Problema 1\n",
    "## Optimización en Redes de Transporte"
   ]
  },
  {
   "cell_type": "code",
   "execution_count": 66,
   "id": "0479b23a",
   "metadata": {},
   "outputs": [],
   "source": [
    "# Definimos cada x_i y el vector X\n",
    "# x1 = 1.43050\n",
    "# x2 = 1.16860\n",
    "# x3 = 0.63091\n",
    "x1 = 1\n",
    "x2 = 1\n",
    "x3 = 1\n",
    "X = [x1, x2, x3]\n",
    "\n",
    "# Estas son las diferencias de x (deltas)\n",
    "d1 = 0\n",
    "d2 = 0\n",
    "d3 = 0\n",
    "D = [d1, d2, d3]\n",
    "\n",
    "E = [100, 100, 100] # Para almacenar errores relativos"
   ]
  },
  {
   "cell_type": "code",
   "execution_count": 67,
   "id": "9307250a",
   "metadata": {},
   "outputs": [],
   "source": [
    "# Definimos nuestras F(x) para crear el vector\n",
    "F1 = x1**2 + x2**2 + x3 - 4\n",
    "F2 = x1*sin(x2) - x3**2 - 1\n",
    "F3 = log(x1*x2) + x3 - 1\n",
    "\n",
    "F = [F1, F2, F3]"
   ]
  },
  {
   "cell_type": "code",
   "execution_count": 68,
   "id": "38b5e63f",
   "metadata": {},
   "outputs": [],
   "source": [
    "# Definimos las derivadas parciales para J(x)\n",
    "dF1dx1 = 2*x1\n",
    "dF1dx2 = 2*x2\n",
    "dF1dx3 = 1\n",
    "\n",
    "dF2dx1 = sin(x2)\n",
    "dF2dx2 = x1*cos(x2)\n",
    "dF2dx3 = -2*x3\n",
    "\n",
    "dF3dx1 = 1/x1\n",
    "dF3dx2 = 1/x2\n",
    "dF3dx3 = 1\n",
    "\n",
    "J = [ [dF1dx1, dF1dx2, dF1dx3],\n",
    "      [dF2dx1, dF2dx2, dF2dx3],\n",
    "      [dF3dx1, dF3dx2, dF3dx3] ]"
   ]
  },
  {
   "cell_type": "code",
   "execution_count": 76,
   "id": "90007c4e",
   "metadata": {},
   "outputs": [
    {
     "name": "stdout",
     "output_type": "stream",
     "text": [
      "5 iteraciones para todo error RP < 0.001%\n"
     ]
    }
   ],
   "source": [
    "# Ta raro iniciar con todas x = 1\n",
    "\n",
    "# x1 = 1.43050\n",
    "# x2 = 1.16860\n",
    "# x3 = 0.63091\n",
    "x1 = 2\n",
    "x2 = 1\n",
    "x3 = 0.5\n",
    "X = [x1, x2, x3]\n",
    "E = [100, 100, 100]\n",
    "for a in range(100):\n",
    "    if all(e < 0.001 for e in E):\n",
    "        print(a, \"iteraciones para todo error RP < 0.001%\")\n",
    "        break\n",
    "    \n",
    "    # Buscamos obtener: J(x_i)*delta_x=-F(x_i)\n",
    "    \n",
    "    # Conseguimos -F(x_i)\n",
    "    F1 = (x1**2) + (x2**2) + x3 - 4\n",
    "    F2 = x1*sin(x2) - (x3**2) - 1\n",
    "    F3 = log(x1*x2) + x3 - 1 # Detalle aquí\n",
    "#     print(round(F1, 2), round(F2, 2), round(F3, 2))\n",
    "    \n",
    "    # Detalle: aquí cada una entra negativa\n",
    "    # porque el método iguala a -F(x_i)\n",
    "    F = [-F1, -F2, -F3] \n",
    "    \n",
    "    # Obtenemos J(x_i)\n",
    "    dF1dx1 = 2*x1\n",
    "    dF1dx2 = 2*x2\n",
    "    dF1dx3 = 1\n",
    "\n",
    "    dF2dx1 = sin(x2)\n",
    "    dF2dx2 = x1*cos(x2)\n",
    "    dF2dx3 = -2*x3\n",
    "\n",
    "    dF3dx1 = 1/(x1)\n",
    "    dF3dx2 = 1/(x2)\n",
    "    dF3dx3 = 1\n",
    "\n",
    "    J = [ [dF1dx1, dF1dx2, dF1dx3],\n",
    "          [dF2dx1, dF2dx2, dF2dx3],\n",
    "          [dF3dx1, dF3dx2, dF3dx3] ]\n",
    "    \n",
    "    # Resolvemos sistema lineal vía Doolittle para\n",
    "    # obtener delta_x\n",
    "    d1, d2, d3 = doolittle3x3(J, F)\n",
    "    D = [d1, d2, d3]\n",
    "    \n",
    "    \n",
    "    # Cálculo de Errores\n",
    "    for i in range(len(D)):\n",
    "        E[i] = abs(D[i]/X[i]) * 100\n",
    "    \n",
    "    # Ajustamos este cambio en las x ya que calculamos una diferencia\n",
    "    x1 += d1\n",
    "    x2 += d2\n",
    "    x3 += d3\n",
    "    X = [x1, x2, x3]"
   ]
  },
  {
   "cell_type": "code",
   "execution_count": 77,
   "id": "be59fdec",
   "metadata": {},
   "outputs": [
    {
     "data": {
      "text/plain": [
       "[-8.533293183177193e-08, 6.072378988530858e-08, 3.36111312115861e-08]"
      ]
     },
     "execution_count": 77,
     "metadata": {},
     "output_type": "execute_result"
    }
   ],
   "source": [
    "F"
   ]
  },
  {
   "cell_type": "code",
   "execution_count": 78,
   "id": "0e689b8c",
   "metadata": {
    "scrolled": true
   },
   "outputs": [
    {
     "data": {
      "text/plain": [
       "[1.5677493833913456, 0.9916994063964282, 0.5586941582290521]"
      ]
     },
     "execution_count": 78,
     "metadata": {},
     "output_type": "execute_result"
    }
   ],
   "source": [
    "X"
   ]
  },
  {
   "cell_type": "markdown",
   "id": "53a7e88c",
   "metadata": {},
   "source": [
    "# Problema 2"
   ]
  },
  {
   "cell_type": "code",
   "execution_count": 119,
   "id": "90e5264e",
   "metadata": {},
   "outputs": [],
   "source": [
    "# Definimos cada x_i y el vector X\n",
    "x1 = 1\n",
    "x2 = 1\n",
    "x3 = 1\n",
    "X = [x1, x2, x3]\n",
    "\n",
    "# Estas son las diferencias de x (deltas)\n",
    "d1 = 0\n",
    "d2 = 0\n",
    "d3 = 0\n",
    "D = [d1, d2, d3]\n",
    "\n",
    "E = [100, 100, 100] # Para almacenar errores relativos"
   ]
  },
  {
   "cell_type": "code",
   "execution_count": 120,
   "id": "7bc10918",
   "metadata": {},
   "outputs": [],
   "source": [
    "for a in range(100):\n",
    "#     print(a)\n",
    "#     print(E)\n",
    "    if all(e < 0.001 for e in E):\n",
    "        print(a, \"iteraciones para todo error RP < 0.001%\")\n",
    "        break\n",
    "    \n",
    "    # Buscamos obtener: J(x_i)*delta_x=-F(x_i)\n",
    "    \n",
    "    # Conseguimos -F(x_i)\n",
    "    F1 = (x1**3) - x2*cos(x3) - 2\n",
    "    F2 = (x1**2) + (x2**2) + (x3**2) - 3\n",
    "    F3 = (e**x1) + x2 - x3 - 1\n",
    "    \n",
    "    # Detalle: aquí cada una entra negativa\n",
    "    # porque el método iguala a -F(x_i)\n",
    "    F = [-F1, -F2, -F3] \n",
    "    \n",
    "    # Obtenemos J(x_i)\n",
    "    dF1dx1 = 3*x1**2\n",
    "    dF1dx2 = cos(x3)\n",
    "    dF1dx3 = -x2*sin(x3)\n",
    "\n",
    "    dF2dx1 = 2*x1\n",
    "    dF2dx2 = 2*x2\n",
    "    dF2dx3 = 2*x3\n",
    "\n",
    "    dF3dx1 = e**x1\n",
    "    dF3dx2 = 1\n",
    "    dF3dx3 = -1\n",
    "\n",
    "    J = [ [dF1dx1, dF1dx2, dF1dx3],\n",
    "          [dF2dx1, dF2dx2, dF2dx3],\n",
    "          [dF3dx1, dF3dx2, dF3dx3] ]\n",
    "    \n",
    "    # Resolvemos sistema lineal vía Doolittle para\n",
    "    # obtener delta_x\n",
    "    d1, d2, d3 = doolittle3x3(J, F)\n",
    "    D = [d1, d2, d3]\n",
    "    \n",
    "    # Cálculo de Errores\n",
    "    for i in range(len(D)):\n",
    "        E[i] = abs(D[i]/X[i]) * 100\n",
    "    \n",
    "    # Ajustamos este cambio en las x ya que calculamos una diferencia\n",
    "    x1 += d1\n",
    "    x2 += d2\n",
    "    x3 += d3\n",
    "    \n",
    "    X = [x1, x2, x3]"
   ]
  },
  {
   "cell_type": "code",
   "execution_count": 121,
   "id": "e672b913",
   "metadata": {},
   "outputs": [
    {
     "data": {
      "text/plain": [
       "[194.224937969212, -5013711.472001046, -423944.27761050826]"
      ]
     },
     "execution_count": 121,
     "metadata": {},
     "output_type": "execute_result"
    }
   ],
   "source": [
    "X"
   ]
  },
  {
   "cell_type": "code",
   "execution_count": 122,
   "id": "20bd8314",
   "metadata": {},
   "outputs": [
    {
     "data": {
      "text/plain": [
       "[-7449009.355001629, -13480094696.768429, -6.096959216001317e+84]"
      ]
     },
     "execution_count": 122,
     "metadata": {},
     "output_type": "execute_result"
    }
   ],
   "source": [
    "F"
   ]
  },
  {
   "cell_type": "markdown",
   "id": "11775fc2",
   "metadata": {},
   "source": [
    "# Problema 3"
   ]
  },
  {
   "cell_type": "code",
   "execution_count": 34,
   "id": "507086e1",
   "metadata": {},
   "outputs": [
    {
     "name": "stderr",
     "output_type": "stream",
     "text": [
      "C:\\Users\\pedro\\AppData\\Local\\Temp\\ipykernel_15248\\3230093348.py:9: RuntimeWarning: invalid value encountered in log10\n",
      "  f3 = np.log10(x1 * x2) + x3 - 1\n"
     ]
    },
    {
     "ename": "Exception",
     "evalue": "Newton's method did not converge",
     "output_type": "error",
     "traceback": [
      "\u001b[1;31m---------------------------------------------------------------------------\u001b[0m",
      "\u001b[1;31mException\u001b[0m                                 Traceback (most recent call last)",
      "Cell \u001b[1;32mIn[34], line 48\u001b[0m\n\u001b[0;32m     45\u001b[0m     \u001b[38;5;28;01mraise\u001b[39;00m \u001b[38;5;167;01mException\u001b[39;00m(\u001b[38;5;124m\"\u001b[39m\u001b[38;5;124mNewton\u001b[39m\u001b[38;5;124m'\u001b[39m\u001b[38;5;124ms method did not converge\u001b[39m\u001b[38;5;124m\"\u001b[39m)\n\u001b[0;32m     47\u001b[0m \u001b[38;5;66;03m# Solve the system using refined initial guess\u001b[39;00m\n\u001b[1;32m---> 48\u001b[0m solution, iter_values \u001b[38;5;241m=\u001b[39m newton_method(initial_guess_refined)\n\u001b[0;32m     50\u001b[0m \u001b[38;5;66;03m# Display the solution and first 3 iterations\u001b[39;00m\n\u001b[0;32m     51\u001b[0m solution, iter_values[:\u001b[38;5;241m3\u001b[39m]\n",
      "Cell \u001b[1;32mIn[34], line 45\u001b[0m, in \u001b[0;36mnewton_method\u001b[1;34m(initial_guess, tol, max_iter)\u001b[0m\n\u001b[0;32m     43\u001b[0m     \u001b[38;5;28;01mif\u001b[39;00m np\u001b[38;5;241m.\u001b[39mlinalg\u001b[38;5;241m.\u001b[39mnorm(delta) \u001b[38;5;241m<\u001b[39m tol:\n\u001b[0;32m     44\u001b[0m         \u001b[38;5;28;01mreturn\u001b[39;00m x, iter_values  \u001b[38;5;66;03m# Return solution and iteration values\u001b[39;00m\n\u001b[1;32m---> 45\u001b[0m \u001b[38;5;28;01mraise\u001b[39;00m \u001b[38;5;167;01mException\u001b[39;00m(\u001b[38;5;124m\"\u001b[39m\u001b[38;5;124mNewton\u001b[39m\u001b[38;5;124m'\u001b[39m\u001b[38;5;124ms method did not converge\u001b[39m\u001b[38;5;124m\"\u001b[39m)\n",
      "\u001b[1;31mException\u001b[0m: Newton's method did not converge"
     ]
    }
   ],
   "source": [
    "import numpy as np\n",
    "from scipy.optimize import least_squares\n",
    "\n",
    "# Define the system of equations with base-10 logarithm\n",
    "def equations(vars):\n",
    "    x1, x2, x3 = vars\n",
    "    f1 = x1**2 + x2**2 + x3 - 4\n",
    "    f2 = x1 * np.sin(x2) - x3**2 - 1\n",
    "    f3 = np.log10(x1 * x2) + x3 - 1\n",
    "    return np.array([f1, f2, f3])\n",
    "\n",
    "# Using least_squares to get a good initial guess\n",
    "initial_guess = [1, 1, 2]\n",
    "result = least_squares(equations, initial_guess)\n",
    "initial_guess_refined = result.x\n",
    "\n",
    "# Define the Jacobian matrix with base-10 logarithm\n",
    "def jacobian(vars):\n",
    "    x1, x2, x3 = vars\n",
    "    df1dx1 = 2 * x1\n",
    "    df1dx2 = 2 * x2\n",
    "    df1dx3 = 1\n",
    "    df2dx1 = np.sin(x2)\n",
    "    df2dx2 = x1 * np.cos(x2)\n",
    "    df2dx3 = -2 * x3\n",
    "    df3dx1 = 1 / (x1 * np.log(10))\n",
    "    df3dx2 = 1 / (x2 * np.log(10))\n",
    "    df3dx3 = 1\n",
    "    return np.array([[df1dx1, df1dx2, df1dx3],\n",
    "                     [df2dx1, df2dx2, df2dx3],\n",
    "                     [df3dx1, df3dx2, df3dx3]])\n",
    "\n",
    "# Newton's method\n",
    "def newton_method(initial_guess, tol=1e-6, max_iter=100):\n",
    "    x = np.array(initial_guess, dtype=float)\n",
    "    iter_values = []\n",
    "    for i in range(max_iter):\n",
    "        f_val = equations(x)\n",
    "        jacobian_val = jacobian(x)\n",
    "        delta = np.linalg.solve(jacobian_val, -f_val)\n",
    "        x = x + delta\n",
    "        iter_values.append(x.copy())\n",
    "        if np.linalg.norm(delta) < tol:\n",
    "            return x, iter_values  # Return solution and iteration values\n",
    "    raise Exception(\"Newton's method did not converge\")\n",
    "\n",
    "# Solve the system using refined initial guess\n",
    "solution, iter_values = newton_method(initial_guess_refined)\n",
    "\n",
    "# Display the solution and first 3 iterations\n",
    "solution, iter_values[:3]\n"
   ]
  },
  {
   "cell_type": "code",
   "execution_count": null,
   "id": "dd9f4336",
   "metadata": {},
   "outputs": [],
   "source": []
  }
 ],
 "metadata": {
  "kernelspec": {
   "display_name": "Python 3 (ipykernel)",
   "language": "python",
   "name": "python3"
  },
  "language_info": {
   "codemirror_mode": {
    "name": "ipython",
    "version": 3
   },
   "file_extension": ".py",
   "mimetype": "text/x-python",
   "name": "python",
   "nbconvert_exporter": "python",
   "pygments_lexer": "ipython3",
   "version": "3.11.7"
  }
 },
 "nbformat": 4,
 "nbformat_minor": 5
}
