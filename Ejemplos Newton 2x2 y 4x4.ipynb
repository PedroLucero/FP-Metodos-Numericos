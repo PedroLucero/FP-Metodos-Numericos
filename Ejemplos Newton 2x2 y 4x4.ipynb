{
 "cells": [
  {
   "cell_type": "code",
   "execution_count": 59,
   "id": "4f8fbca0",
   "metadata": {},
   "outputs": [],
   "source": [
    "from math import *\n",
    "import numpy as np"
   ]
  },
  {
   "cell_type": "code",
   "execution_count": 60,
   "id": "84e1e9d2",
   "metadata": {},
   "outputs": [],
   "source": [
    "def doolittle2x2(A, b):\n",
    "    u11, u12 = A[0]\n",
    "    l21 = A[1][0] / u11\n",
    "    u22 = A[1][1] - u12*l21\n",
    "    \n",
    "    y1 = b[0]\n",
    "    y2 = b[1] - l21 * y1\n",
    "    \n",
    "    x2 = y2/u22\n",
    "    x1 = (y1 - u12*x2)/u11\n",
    "    \n",
    "    return x1, x2"
   ]
  },
  {
   "cell_type": "code",
   "execution_count": 61,
   "id": "64b00022",
   "metadata": {},
   "outputs": [],
   "source": [
    "def doolittle4x4(A,b):\n",
    "    u11, u12, u13, u14 = A[0]\n",
    "    l21 = A[1][0]/u11\n",
    "    l31 = A[2][0]/u11\n",
    "    l41 = A[3][0]/u11\n",
    "    u22 = A[1][1] - l21*u12\n",
    "    u23 = A[1][2] - l21*u13\n",
    "    u24 = A[1][3] - l21*u14\n",
    "    l32 = (A[2][1] - l31*u12)/u22\n",
    "    l42 = (A[3][1] - l41*u12)/u22\n",
    "    u33 = A[2][2] - l31*u13 - l32*u23\n",
    "    u34 = A[2][3] - l31*u14 - l32*u24\n",
    "    l43 = (A[3][2] - l41*u13 - l42*u23)/u33\n",
    "    u44 = A[3][3] - l41*u14 - l42*u24 - l43*u34\n",
    "    \n",
    "    y1 = b[0]\n",
    "    y2 = b[1] - l21*y1\n",
    "    y3 = b[2] - l31*y1 - l32*y2\n",
    "    y4 = b[3] - l41*y1 - l42*y2 - l43*y3\n",
    "    \n",
    "    x4 = y4/u44\n",
    "    x3 = (y3 - x4*u34)/u33\n",
    "    x2 = (y2 - x3*u23 - x4*u24)/u22\n",
    "    x1 = (y1 - x2*u12 - x3*u13 - x4*u14)/u11\n",
    "    \n",
    "    return x1, x2, x3, x4"
   ]
  },
  {
   "cell_type": "markdown",
   "id": "0542c14a",
   "metadata": {},
   "source": [
    "# Ejemplo 1 de la guía\n",
    "### Esta es la 2x2 de v1"
   ]
  },
  {
   "cell_type": "code",
   "execution_count": 63,
   "id": "dedb2c09",
   "metadata": {},
   "outputs": [],
   "source": [
    "# Definir x's\n",
    "x1 = 1\n",
    "x2 = 1\n",
    "X = [x1, x2]\n",
    "\n",
    "# Definir d's\n",
    "d1 = 0\n",
    "d2 = 0\n",
    "D = [d1, d2]\n",
    "\n",
    "E = [100, 100]\n",
    "\n",
    "# Definir F's\n",
    "F1 = x1**2 + x2**2 - 4\n",
    "F2 = exp(x1) - x2\n",
    "\n",
    "F = [-F1, -F2]\n",
    "\n",
    "# Definir jacobiana\n",
    "dF1dx1 = 2*x1\n",
    "dF1dx2 = 2*x2\n",
    "\n",
    "dF2dx1 = exp(x1)\n",
    "dF2dx2 = -1\n",
    "\n",
    "J = [[dF1dx1, dF1dx2],\n",
    "     [dF2dx1, dF2dx2]]\n",
    "\n",
    "d1, d2 = doolittle2x2(J, F)\n",
    "D = d1, d2"
   ]
  },
  {
   "cell_type": "code",
   "execution_count": 64,
   "id": "8415e86e",
   "metadata": {},
   "outputs": [
    {
     "name": "stdout",
     "output_type": "stream",
     "text": [
      "(-0.19317573589001458, 1.1931757358900146)\n",
      "Obtuve bien el primer paso!\n"
     ]
    }
   ],
   "source": [
    "print(D)\n",
    "print(\"Obtuve bien el primer paso!\")"
   ]
  },
  {
   "cell_type": "markdown",
   "id": "92989161-f9ed-40fb-8bc6-b3a454f1065f",
   "metadata": {},
   "source": [
    "# Ejemplo 1 de la guía\n",
    "### Esta es la 2x2 de v2"
   ]
  },
  {
   "cell_type": "code",
   "execution_count": 101,
   "id": "6e938d44-a7c2-4e4e-ad0f-531af4b02813",
   "metadata": {},
   "outputs": [],
   "source": [
    "# Definir x's\n",
    "x1 = 1\n",
    "x2 = 1\n",
    "X = [x1, x2]\n",
    "\n",
    "# Definir d's\n",
    "d1 = 0\n",
    "d2 = 0\n",
    "D = [d1, d2]\n",
    "\n",
    "E = [100, 100]\n",
    "\n",
    "# Definir F's\n",
    "F1 = x1**2 + x2**2 - 4\n",
    "F2 = exp(x1) + x2 - 1\n",
    "\n",
    "F = [-F1, -F2]\n",
    "\n",
    "# Definir jacobiana\n",
    "dF1dx1 = 2*x1\n",
    "dF1dx2 = 2*x2\n",
    "\n",
    "dF2dx1 = exp(x1)\n",
    "dF2dx2 = 1\n",
    "\n",
    "J = [[dF1dx1, dF1dx2],\n",
    "     [dF2dx1, dF2dx2]]\n",
    "\n",
    "d1, d2 = doolittle2x2(J, F)\n",
    "D = d1, d2"
   ]
  },
  {
   "cell_type": "code",
   "execution_count": 102,
   "id": "1b91baab-8f7c-43e1-b026-10b6eaba8614",
   "metadata": {},
   "outputs": [
    {
     "name": "stdout",
     "output_type": "stream",
     "text": [
      "(-2.163953413738653, 3.163953413738653)\n",
      "Hmmmm...\n"
     ]
    }
   ],
   "source": [
    "print(D)\n",
    "print(\"Hmmmm...\")"
   ]
  },
  {
   "cell_type": "code",
   "execution_count": 103,
   "id": "3c7acc45-ffd2-45a7-b952-c3a36bf9ef5f",
   "metadata": {},
   "outputs": [
    {
     "name": "stdout",
     "output_type": "stream",
     "text": [
      "-1.163953413738653 4.163953413738653\n"
     ]
    }
   ],
   "source": [
    "x1 += d1\n",
    "x2 += d2\n",
    "print(x1, x2)"
   ]
  },
  {
   "cell_type": "code",
   "execution_count": 104,
   "id": "f45d1d02-cf7b-4641-a208-c9b073581770",
   "metadata": {},
   "outputs": [],
   "source": [
    "F1 = x1**2 + x2**2 - 4\n",
    "F2 = exp(x1) + x2 + 1"
   ]
  },
  {
   "cell_type": "code",
   "execution_count": 105,
   "id": "8defb802-0a85-4d48-bf6c-a5a73d20175f",
   "metadata": {},
   "outputs": [
    {
     "name": "stdout",
     "output_type": "stream",
     "text": [
      "14.693295581139651\n",
      "5.47620270063472\n"
     ]
    }
   ],
   "source": [
    "print(F1)\n",
    "print(F2)"
   ]
  },
  {
   "cell_type": "code",
   "execution_count": 1,
   "id": "f0e2bc4d-08a3-4627-b01d-cd02d90c2ec4",
   "metadata": {},
   "outputs": [
    {
     "ename": "NameError",
     "evalue": "name 'e' is not defined",
     "output_type": "error",
     "traceback": [
      "\u001b[1;31m---------------------------------------------------------------------------\u001b[0m",
      "\u001b[1;31mNameError\u001b[0m                                 Traceback (most recent call last)",
      "Cell \u001b[1;32mIn[1], line 1\u001b[0m\n\u001b[1;32m----> 1\u001b[0m testJaco \u001b[38;5;241m=\u001b[39m [[\u001b[38;5;241m1\u001b[39m\u001b[38;5;241m/\u001b[39m(\u001b[38;5;241m2\u001b[39m\u001b[38;5;241m-\u001b[39m\u001b[38;5;241m2\u001b[39m\u001b[38;5;241m*\u001b[39me), \u001b[38;5;241m1\u001b[39m\u001b[38;5;241m/\u001b[39m(e\u001b[38;5;241m-\u001b[39m\u001b[38;5;241m1\u001b[39m)],\n\u001b[0;32m      2\u001b[0m             [e\u001b[38;5;241m/\u001b[39m(\u001b[38;5;241m2\u001b[39m\u001b[38;5;241m*\u001b[39me\u001b[38;5;241m-\u001b[39m\u001b[38;5;241m2\u001b[39m), \u001b[38;5;241m1\u001b[39m\u001b[38;5;241m/\u001b[39m(\u001b[38;5;241m1\u001b[39m\u001b[38;5;241m-\u001b[39me)]]\n\u001b[0;32m      3\u001b[0m testF \u001b[38;5;241m=\u001b[39m [\u001b[38;5;241m-\u001b[39m\u001b[38;5;241m2\u001b[39m, e]\n\u001b[0;32m      5\u001b[0m arred_J \u001b[38;5;241m=\u001b[39m np\u001b[38;5;241m.\u001b[39mmatrix(testJaco)\n",
      "\u001b[1;31mNameError\u001b[0m: name 'e' is not defined"
     ]
    }
   ],
   "source": [
    "testJaco = [[1/(2-2*e), 1/(e-1)],\n",
    "            [e/(2*e-2), 1/(1-e)]]\n",
    "testF = [-2, e]\n",
    "\n",
    "arred_J = np.matrix(testJaco)\n",
    "arred_F = np.array(testF)\n",
    "\n",
    "-arred_J @ arred_F"
   ]
  },
  {
   "cell_type": "code",
   "execution_count": 114,
   "id": "904247d9-ce8e-45a8-b3b5-58381a06b7b5",
   "metadata": {},
   "outputs": [
    {
     "data": {
      "text/plain": [
       "matrix([[-0.29098835,  0.58197671],\n",
       "        [ 0.79098835, -0.58197671]])"
      ]
     },
     "execution_count": 114,
     "metadata": {},
     "output_type": "execute_result"
    }
   ],
   "source": [
    "arred_J"
   ]
  },
  {
   "cell_type": "code",
   "execution_count": 117,
   "id": "d50681bf-9b0f-4e76-8b62-21c4462c1648",
   "metadata": {},
   "outputs": [
    {
     "data": {
      "text/plain": [
       "matrix([[2.        , 2.        ],\n",
       "        [2.71828183, 1.        ]])"
      ]
     },
     "execution_count": 117,
     "metadata": {},
     "output_type": "execute_result"
    }
   ],
   "source": [
    "np.linalg.inv(arred_J)"
   ]
  },
  {
   "cell_type": "code",
   "execution_count": 107,
   "id": "b16b6c66-95f2-47bc-b2f2-6b6617a8bfe8",
   "metadata": {},
   "outputs": [],
   "source": [
    "new_D = -arred_J @ arred_F\n",
    "d1, d2 = new_D.tolist()[0]"
   ]
  },
  {
   "cell_type": "code",
   "execution_count": 108,
   "id": "6a415a87-8ca0-46a8-ab85-bae0b134907e",
   "metadata": {},
   "outputs": [
    {
     "name": "stdout",
     "output_type": "stream",
     "text": [
      "-1.163953413738653 4.163953413738653\n"
     ]
    }
   ],
   "source": [
    "x1 = 1 + d1\n",
    "x2 = 1 + d2\n",
    "print(x1, x2)"
   ]
  },
  {
   "cell_type": "code",
   "execution_count": 109,
   "id": "66af158b-54de-4a27-8e40-1b0ef1137ab2",
   "metadata": {},
   "outputs": [],
   "source": [
    "F1 = x1**2 + x2**2 - 4\n",
    "F2 = exp(x1) + x2 + 1"
   ]
  },
  {
   "cell_type": "code",
   "execution_count": 110,
   "id": "30cbec33-5411-45cf-b29d-fb0f27586d99",
   "metadata": {},
   "outputs": [
    {
     "name": "stdout",
     "output_type": "stream",
     "text": [
      "14.693295581139651\n",
      "5.47620270063472\n"
     ]
    }
   ],
   "source": [
    "print(F1)\n",
    "print(F2)"
   ]
  },
  {
   "cell_type": "markdown",
   "id": "6adb066a",
   "metadata": {},
   "source": [
    "# Ejemplo 2 de la guía\n",
    "### Esta es la 4x4"
   ]
  },
  {
   "cell_type": "code",
   "execution_count": 100,
   "id": "49bf8b7c",
   "metadata": {},
   "outputs": [],
   "source": [
    "# Definir x's\n",
    "x1 = 0.5\n",
    "x2 = 0.5\n",
    "x3 = 0.5\n",
    "x4 = 0.5\n",
    "X = [x1, x2, x3, x4]\n",
    "\n",
    "# Definir d's\n",
    "d1 = 0\n",
    "d2 = 0\n",
    "d3 = 0\n",
    "d4 = 0\n",
    "D = [d1, d2, d3, d4]\n",
    "\n",
    "E = [100, 100, 100, 100]"
   ]
  },
  {
   "cell_type": "code",
   "execution_count": 104,
   "id": "630fb43f",
   "metadata": {},
   "outputs": [],
   "source": [
    "# Definir F's\n",
    "F1 = x1*tanh(x2*x3) - x4\n",
    "F2 = x2*sin(x3) - x1*x4 + 1\n",
    "F3 = exp(x1*x2) + x3**2 - x4\n",
    "F4 = x1**2 + x2**2 + x3**2 + x4**2 -1\n",
    "\n",
    "F = [F1, F2, F3, F4]"
   ]
  },
  {
   "cell_type": "code",
   "execution_count": 56,
   "id": "ab2fa976",
   "metadata": {},
   "outputs": [],
   "source": [
    "# Definir jacobiana\n",
    "dF1dx1 = tanh(x2*x3)\n",
    "dF1dx2 = x1*x3*(1-tanh(x2*x3)**2)\n",
    "dF1dx3 = x1*x2*(1-tanh(x2*x3)**2)\n",
    "dF1dx4 = -1\n",
    "\n",
    "dF2dx1 = -x4\n",
    "dF2dx2 = sin(x3)\n",
    "dF2dx3 = x2*cos(x3)\n",
    "dF2dx4 = -x1\n",
    "\n",
    "dF3dx1 = x2*exp(x1*x2)\n",
    "dF3dx2 = x1*exp(x1*x2)\n",
    "dF3dx3 = 2*x3\n",
    "dF3dx4 = -1\n",
    "\n",
    "dF4dx1 = 2*x1\n",
    "dF4dx2 = 2*x2\n",
    "dF4dx3 = 2*x3\n",
    "dF4dx4 = 2*x4\n",
    "\n",
    "J = [[dF1dx1, dF1dx2, dF1dx3, dF1dx4],\n",
    "     [dF2dx1, dF2dx2, dF2dx3, dF2dx4],\n",
    "     [dF3dx1, dF3dx2, dF3dx3, dF3dx4],\n",
    "     [dF4dx1, dF4dx2, dF4dx3, dF4dx4]]"
   ]
  },
  {
   "cell_type": "code",
   "execution_count": 116,
   "id": "8761a39a",
   "metadata": {},
   "outputs": [
    {
     "name": "stdout",
     "output_type": "stream",
     "text": [
      "Estamos dejando de converger\n",
      "Estamos dejando de converger\n",
      "Estamos dejando de converger\n"
     ]
    }
   ],
   "source": [
    "# Definir x's\n",
    "x1 = 0.5\n",
    "x2 = 0.5\n",
    "x3 = 0.5\n",
    "x4 = 0.5\n",
    "X = [x1, x2, x3, x4]\n",
    "\n",
    "# Definir d's\n",
    "d1 = 0\n",
    "d2 = 0\n",
    "d3 = 0\n",
    "d4 = 0\n",
    "D = [d1, d2, d3, d4]\n",
    "E = [100, 100, 100, 100]\n",
    "for a in range(1):\n",
    "    if all(e < 0.001 for e in E):\n",
    "        print(a+1, \"iteraciones para todo error RP < 0.001%\")\n",
    "        break\n",
    "        \n",
    "    # Buscamos obtener: J(x_i)*delta_x=-F(x_i)\n",
    "    \n",
    "    # Conseguimos -F(x_i)\n",
    "    F1 = x1*tanh(x2*x3) - x4\n",
    "    F2 = x2*sin(x3) - x1*x4 + 1\n",
    "    F3 = exp(x1*x2) + x3**2 - x4\n",
    "    F4 = x1**2 + x2**2 + x3**2 + x4**2 -1\n",
    "\n",
    "    # Detalle: aquí cada una entra negativa\n",
    "    # porque el método iguala a -F(x_i)\n",
    "    F = [-F1, -F2, -F3, -F4]\n",
    "\n",
    "    # Obtenemos la Jacobiana: J(x_i)\n",
    "    dF1dx1 = tanh(x2*x3)\n",
    "    dF1dx2 = x1*x3*(1-tanh(x2*x3)**2)\n",
    "    dF1dx3 = x1*x2*(1-tanh(x2*x3)**2)\n",
    "    dF1dx4 = -1\n",
    "\n",
    "    dF2dx1 = -x4\n",
    "    dF2dx2 = sin(x3)\n",
    "    dF2dx3 = x2*cos(x3)\n",
    "    dF2dx4 = -x1\n",
    "\n",
    "    dF3dx1 = x2*exp(x1*x2)\n",
    "    dF3dx2 = x1*exp(x1*x2)\n",
    "    dF3dx3 = 2*x3\n",
    "    dF3dx4 = -1\n",
    "\n",
    "    dF4dx1 = 2*x1\n",
    "    dF4dx2 = 2*x2\n",
    "    dF4dx3 = 2*x3\n",
    "    dF4dx4 = 2*x4\n",
    "\n",
    "    J = [[dF1dx1, dF1dx2, dF1dx3, dF1dx4],\n",
    "         [dF2dx1, dF2dx2, dF2dx3, dF2dx4],\n",
    "         [dF3dx1, dF3dx2, dF3dx3, dF3dx4],\n",
    "         [dF4dx1, dF4dx2, dF4dx3, dF4dx4]]\n",
    "    \n",
    "    # Resolvemos sistema lineal vía Doolittle para\n",
    "    # obtener delta_x\n",
    "    d1, d2, d3, d4 = doolittle4x4(J, F)\n",
    "    D = [d1, d2, d3, d4]\n",
    "    \n",
    "    # Cálculo de Errores\n",
    "    for i in range(len(D)):\n",
    "        new_e = abs(D[i]/X[i]) * 100\n",
    "        if new_e > E[i]:\n",
    "            print(\"Estamos dejando de converger\")\n",
    "        E[i] = new_e\n",
    "        \n",
    "    # Ajustamos este cambio en las x ya que calculamos una diferencia\n",
    "    x1 += d1\n",
    "    x2 += d2\n",
    "    x3 += d3\n",
    "    x4 += d4\n",
    "    \n",
    "    X = [x1, x2, x3, x4]"
   ]
  },
  {
   "cell_type": "code",
   "execution_count": 117,
   "id": "7f00705d",
   "metadata": {},
   "outputs": [
    {
     "data": {
      "text/plain": [
       "[0.3775406687981454, -0.9897127693021015, -1.0340254166877414, -0.0]"
      ]
     },
     "execution_count": 117,
     "metadata": {},
     "output_type": "execute_result"
    }
   ],
   "source": [
    "F"
   ]
  },
  {
   "cell_type": "code",
   "execution_count": 121,
   "id": "c8e0b35e",
   "metadata": {},
   "outputs": [
    {
     "data": {
      "text/plain": [
       "[-2.1862508991233884,\n",
       " 2.580093342840842,\n",
       " 1142.6391754873446,\n",
       " 29.523369126858857]"
      ]
     },
     "execution_count": 121,
     "metadata": {},
     "output_type": "execute_result"
    }
   ],
   "source": [
    "F1 = x1*tanh(x2*x3) - x4\n",
    "F2 = x2*sin(x3) - x1*x4 + 1\n",
    "F3 = exp(x1*x2) + x3**2 - x4\n",
    "F4 = x1**2 + x2**2 + x3**2 + x4**2 -1\n",
    "F = [F1, F2, F3, F4]\n",
    "F"
   ]
  },
  {
   "cell_type": "code",
   "execution_count": 119,
   "id": "b697fc7b",
   "metadata": {
    "scrolled": true
   },
   "outputs": [
    {
     "data": {
      "text/plain": [
       "[1.980068528553608, 3.54987069923878, -3.7361215983741314, 0.20618237058174338]"
      ]
     },
     "execution_count": 119,
     "metadata": {},
     "output_type": "execute_result"
    }
   ],
   "source": [
    "X"
   ]
  },
  {
   "cell_type": "markdown",
   "id": "9d496bbc",
   "metadata": {},
   "source": [
    "# Ejemplo de Stack Exchange\n",
    "### Esta es de 2x2"
   ]
  },
  {
   "cell_type": "code",
   "execution_count": 137,
   "id": "338cd4f2",
   "metadata": {},
   "outputs": [
    {
     "name": "stdout",
     "output_type": "stream",
     "text": [
      "108.04014367327433\n",
      "33.574454638500114\n",
      "14.040400161908094\n",
      "0.1188996540187884\n",
      "3.7828613500512184e-06\n",
      "6 iteraciones para todo error RP < 0.001%\n"
     ]
    }
   ],
   "source": [
    "# Definir x's\n",
    "x1 = 0.6\n",
    "x2 = 0.5\n",
    "X = [x1, x2]\n",
    "\n",
    "# Definir d's\n",
    "d1 = 0\n",
    "d2 = 0\n",
    "D = [d1, d2]\n",
    "\n",
    "E = [100, 100]\n",
    "for a in range(100):\n",
    "    if all(e < 0.001 for e in E):\n",
    "        print(a+1, \"iteraciones para todo error RP < 0.001%\")\n",
    "        break\n",
    "    # Definir F's\n",
    "    F1 = exp(x1*x2) + x1**2 + x2 - 1.2\n",
    "    F2 = x1**2 + x2**2 + x1 - 0.55\n",
    "\n",
    "    F = [-F1, -F2]\n",
    "\n",
    "    # Definir jacobiana\n",
    "    dF1dx1 = x2*exp(x1*x2) + 2*x1\n",
    "    dF1dx2 = x1*exp(x1*x2) + 1\n",
    "\n",
    "    dF2dx1 = 2*x1 + 1\n",
    "    dF2dx2 = 2*x2\n",
    "\n",
    "    J = [[dF1dx1, dF1dx2],\n",
    "         [dF2dx1, dF2dx2]]\n",
    "\n",
    "    d1, d2 = doolittle2x2(J, F)\n",
    "    D = d1, d2\n",
    "\n",
    "    # Cálculo de Errores\n",
    "    for i in range(len(D)):\n",
    "        E[i] = abs(D[i]/X[i]) * 100\n",
    "    print(E[0] + E[1])\n",
    "    \n",
    "    # Ajustamos este cambio en las x ya que calculamos una diferencia\n",
    "    x1 += d1\n",
    "    x2 += d2\n",
    "    \n",
    "    X = [x1, x2]"
   ]
  },
  {
   "cell_type": "code",
   "execution_count": 127,
   "id": "a0e2a3b1",
   "metadata": {},
   "outputs": [
    {
     "data": {
      "text/plain": [
       "[0.393849452834879, 0.032142738943749465]"
      ]
     },
     "execution_count": 127,
     "metadata": {},
     "output_type": "execute_result"
    }
   ],
   "source": [
    "X"
   ]
  },
  {
   "cell_type": "code",
   "execution_count": null,
   "id": "c33e73fd",
   "metadata": {},
   "outputs": [],
   "source": []
  }
 ],
 "metadata": {
  "kernelspec": {
   "display_name": "Python 3 (ipykernel)",
   "language": "python",
   "name": "python3"
  },
  "language_info": {
   "codemirror_mode": {
    "name": "ipython",
    "version": 3
   },
   "file_extension": ".py",
   "mimetype": "text/x-python",
   "name": "python",
   "nbconvert_exporter": "python",
   "pygments_lexer": "ipython3",
   "version": "3.11.7"
  }
 },
 "nbformat": 4,
 "nbformat_minor": 5
}
