{
 "cells": [
  {
   "cell_type": "markdown",
   "id": "a19c8af4",
   "metadata": {},
   "source": [
    "![logo](https://www.raspberrypi.org/app/uploads/2018/03/RPi-Logo-Reg-SCREEN-199x250.png \"Raspberry pi\")"
   ]
  },
  {
   "cell_type": "code",
   "execution_count": 1,
   "id": "d7c2aa70",
   "metadata": {},
   "outputs": [],
   "source": [
    "# Es importante instalar, por lo menos, math\n",
    "# ya que representaremos funciones trigonométricas, etc.\n",
    "# O maybe solo tomaremos las f. que necesitamos?\n",
    "from math import *\n",
    "import numpy as np"
   ]
  },
  {
   "cell_type": "markdown",
   "id": "299212d2",
   "metadata": {},
   "source": [
    "#### Definimos doolittle para matrices 2x2 con fin de probar ambos planteamientos de la ec. del método de Newton \n",
    "### Vía sistemas lineales: $\\Delta x_i=-J(x_i)^{-1}F(x_i)$\n",
    "### Vía matriz inversa: $J(x_i)\\Delta x_i = -F(x_i)$\n"
   ]
  },
  {
   "cell_type": "code",
   "execution_count": 2,
   "id": "c09039f0",
   "metadata": {},
   "outputs": [],
   "source": [
    "def doolittle2x2(A, b):\n",
    "    u11, u12 = A[0]\n",
    "    l21 = A[1][0] / u11\n",
    "    u22 = A[1][1] - u12*l21\n",
    "    \n",
    "    y1 = b[0]\n",
    "    y2 = b[1] - l21 * y1\n",
    "    \n",
    "    x2 = y2/u22\n",
    "    x1 = (y1 - u12*x2)/u11\n",
    "    \n",
    "    return x1, x2"
   ]
  },
  {
   "cell_type": "markdown",
   "id": "afcdee81",
   "metadata": {},
   "source": [
    "# Problema 1\n",
    "## Ecuaciones de Control de Robots"
   ]
  },
  {
   "cell_type": "code",
   "execution_count": 4,
   "id": "0479b23a",
   "metadata": {},
   "outputs": [],
   "source": [
    "# Definimos cada x_i y el vector X\n",
    "x1 = 1\n",
    "x2 = 1\n",
    "X = [x1, x2]\n",
    "\n",
    "# Estas son las diferencias de x (deltas)\n",
    "d1 = 0\n",
    "d2 = 0\n",
    "D = [d1, d2]\n",
    "\n",
    "E = [100, 100] # Para almacenar errores relativos"
   ]
  },
  {
   "cell_type": "code",
   "execution_count": 5,
   "id": "9307250a",
   "metadata": {},
   "outputs": [],
   "source": [
    "# Definimos nuestras F(x) para crear el vector\n",
    "F1 = x1**2 + cos(x2) - 2\n",
    "F2 = e**x1 + x2 - 1"
   ]
  },
  {
   "cell_type": "code",
   "execution_count": 7,
   "id": "38b5e63f",
   "metadata": {},
   "outputs": [],
   "source": [
    "# Definimos las derivadas parciales para J(x)\n",
    "dF1dx1 = 2*x1\n",
    "dF1dx2 = -sin(x2)\n",
    "\n",
    "dF2dx1 = e**x1\n",
    "dF2dx2 = 1\n",
    "\n",
    "J = [ [dF1dx1, dF1dx2],\n",
    "      [dF2dx1, dF2dx2] ]"
   ]
  },
  {
   "cell_type": "code",
   "execution_count": 29,
   "id": "90007c4e",
   "metadata": {
    "scrolled": false
   },
   "outputs": [
    {
     "name": "stdout",
     "output_type": "stream",
     "text": [
      "Condiciones Iniciales: \n",
      "x1: 1, x2: 1\n",
      "20000\n",
      "\n",
      "Iteración: 0\n",
      "x1: 0.5737097883, x2: -0.5595048923\n",
      "26137.788537637312\n",
      "\n",
      "Iteración: 1\n",
      "x1: 5.1387438029, x2: -8.8770401334\n",
      "2843090.7795480685\n",
      "\n",
      "Iteración: 2\n",
      "x1: 4.373344174, x2: -38.9997035213\n",
      "115368.25325061571\n",
      "\n",
      "Iteración: 3\n",
      "x1: 4.0706236356, x2: -54.3001253124\n",
      "1587.0748559737249\n",
      "\n",
      "Iteración: 4\n",
      "x1: 3.7636891702, x2: -39.6091299852\n",
      "788.8377320665902\n",
      "\n",
      "Iteración: 5\n",
      "x1: 4.0497998673, x2: -54.4405830108\n",
      "1459.8813178635353\n",
      "\n",
      "Iteración: 6\n",
      "x1: 3.7787129536, x2: -40.8293852969\n",
      "669.9040438598014\n",
      "\n",
      "Iteración: 7\n",
      "x1: 2.1847298969, x2: 26.9925112993\n",
      "29372.123269943953\n",
      "\n",
      "Iteración: 8\n",
      "x1: -0.6023046003, x2: 16.8836048769\n",
      "17676.36892858705\n",
      "\n",
      "Iteración: 9\n",
      "x1: -10.6534646267, x2: 5.9559472938\n",
      "2789027.6304348847\n",
      "\n",
      "Iteración: 10\n",
      "x1: -5.4509218532, x2: 0.999853503\n",
      "9309.110295638791\n",
      "\n",
      "Iteración: 11\n",
      "x1: -2.8581652953, x2: 0.9845786459\n",
      "2264.807761203382\n",
      "\n",
      "Iteración: 12\n",
      "x1: -1.6660988933, x2: 0.8742325401\n",
      "1865.1139396051842\n",
      "\n",
      "Iteración: 13\n",
      "x1: -1.2061518751, x2: 0.7240950198\n",
      "1057.037486132197\n",
      "\n",
      "Iteración: 14\n",
      "x1: -1.1070412035, x2: 0.6709845282\n",
      "121.31910577882368\n",
      "\n",
      "Iteración: 15\n",
      "x1: -1.1022142734, x2: 0.6678690253\n",
      "0.40570550425989504\n",
      "\n",
      "Iteración: 16\n",
      "x1: -1.1022033246, x2: 0.667861532\n",
      "2.2455437003979726e-06\n",
      "\n",
      "Iteración: 17\n",
      "x1: -1.1022033246, x2: 0.6678615319\n",
      "5.774507035172599e-17\n",
      "\n",
      "Iteración: 18\n",
      "19 iteraciones para todo error RP < 0.001%\n"
     ]
    }
   ],
   "source": [
    "# Ta raro iniciar con todas x = 1\n",
    "x1 = 1\n",
    "x2 = 1\n",
    "X = [x1, x2]\n",
    "E = [100, 100]\n",
    "print(\"Condiciones Iniciales: \")\n",
    "print(f\"x1: {round(x1, 10)}, x2: {round(x2, 10)}\")\n",
    "print(sum(np.array(E)**2))\n",
    "print(\"\")\n",
    "for a in range(100):\n",
    "    print(\"Iteración:\", a)\n",
    "    if all(e < 0.001 for e in E):\n",
    "        print(a+1, \"iteraciones para todo error RP < 0.001%\")\n",
    "        break\n",
    "    # Buscamos obtener: J(x_i)*delta_x=-F(x_i)\n",
    "    \n",
    "    # Conseguimos -F(x_i)\n",
    "    F1 = x1**2 + cos(x2) - 2\n",
    "    F2 = e**x1 + x2 - 1\n",
    "#     print(round(F1, 2), round(F2, 2), round(F3, 2))\n",
    "    \n",
    "    # Detalle: aquí cada una entra negativa\n",
    "    # porque el método iguala a -F(x_i)\n",
    "    F = [-F1, -F2] \n",
    "    \n",
    "    # Obtenemos J(x_i)\n",
    "    dF1dx1 = 2*x1\n",
    "    dF1dx2 = -sin(x2)\n",
    "\n",
    "    dF2dx1 = e**x1\n",
    "    dF2dx2 = 1\n",
    "\n",
    "    J = [ [dF1dx1, dF1dx2],\n",
    "          [dF2dx1, dF2dx2] ]\n",
    "    \n",
    "    # Resolvemos sistema lineal vía Doolittle para\n",
    "    # obtener delta_x\n",
    "    d1, d2 = doolittle2x2(J, F)\n",
    "    D = [d1, d2]\n",
    "    \n",
    "    \n",
    "    # Cálculo de Errores\n",
    "    for i in range(len(D)):\n",
    "        E[i] = abs(D[i]/X[i]) * 100\n",
    "    \n",
    "    # Ajustamos este cambio en las x ya que calculamos una diferencia\n",
    "    x1 += d1\n",
    "    x2 += d2\n",
    "    X = [x1, x2]\n",
    "    \n",
    "    print(f\"x1: {round(x1, 10)}, x2: {round(x2, 10)}\")\n",
    "    print(sum(np.array(E)**2))\n",
    "    print(\"\")"
   ]
  },
  {
   "cell_type": "code",
   "execution_count": 9,
   "id": "a11f4be0",
   "metadata": {
    "scrolled": true
   },
   "outputs": [
    {
     "data": {
      "text/plain": [
       "[-1.1022033245547185, 0.6678615319427907]"
      ]
     },
     "execution_count": 9,
     "metadata": {},
     "output_type": "execute_result"
    }
   ],
   "source": [
    "X"
   ]
  },
  {
   "cell_type": "code",
   "execution_count": 11,
   "id": "04e66545",
   "metadata": {},
   "outputs": [
    {
     "data": {
      "text/plain": [
       "[-9.78328529299688e-11, -1.9907631099158607e-11]"
      ]
     },
     "execution_count": 11,
     "metadata": {},
     "output_type": "execute_result"
    }
   ],
   "source": [
    "F"
   ]
  },
  {
   "cell_type": "markdown",
   "id": "53a7e88c",
   "metadata": {},
   "source": [
    "# Problema 2\n",
    "## Dinámica de Ecosistemas"
   ]
  },
  {
   "cell_type": "code",
   "execution_count": 12,
   "id": "90e5264e",
   "metadata": {},
   "outputs": [],
   "source": [
    "# Definimos cada x_i y el vector X\n",
    "x1 = 1\n",
    "x2 = 1\n",
    "x3 = 1\n",
    "X = [x1, x2, x3]\n",
    "\n",
    "# Estas son las diferencias de x (deltas)\n",
    "d1 = 0\n",
    "d2 = 0\n",
    "d3 = 0\n",
    "D = [d1, d2, d3]\n",
    "\n",
    "E = [100, 100, 100] # Para almacenar errores relativos"
   ]
  },
  {
   "cell_type": "code",
   "execution_count": 13,
   "id": "91c8115f",
   "metadata": {},
   "outputs": [],
   "source": [
    "F1 = x1*log(x2) + x2*x3 - 3\n",
    "F2 = (x1**2) + sin(x2) - x3 - 1\n",
    "F3 = (e**(x1*x2)) + (x3**2) - 4\n",
    "\n",
    "F = np.array([F1, F2, F3])"
   ]
  },
  {
   "cell_type": "code",
   "execution_count": 14,
   "id": "88f135a2",
   "metadata": {},
   "outputs": [],
   "source": [
    "# Obtenemos J(x_i)\n",
    "dF1dx1 = log(x2)\n",
    "dF1dx2 = (x1/x2) + x3\n",
    "dF1dx3 = x2\n",
    "\n",
    "dF2dx1 = 2*x1\n",
    "dF2dx2 = cos(x2)\n",
    "dF2dx3 = -1\n",
    "\n",
    "dF3dx1 = x2*(e**(x1*x2))\n",
    "dF3dx2 = x1*(e**(x1*x2))\n",
    "dF3dx3 = 2*x3\n",
    "\n",
    "J = [ [dF1dx1, dF1dx2, dF1dx3],\n",
    "      [dF2dx1, dF2dx2, dF2dx3],\n",
    "      [dF3dx1, dF3dx2, dF3dx3] ]"
   ]
  },
  {
   "cell_type": "code",
   "execution_count": 18,
   "id": "7bc10918",
   "metadata": {
    "scrolled": false
   },
   "outputs": [
    {
     "name": "stdout",
     "output_type": "stream",
     "text": [
      "Iteración: 0\n",
      "30000\n",
      "x1: 0.29462985259492647, x2: 2.405056910650823, x3: 0.189886178698354\n",
      "\n",
      "Iteración: 1\n",
      "31280.16370481845\n",
      "x1: 0.7966948461960613, x2: 0.9280999924387476, x3: 1.148508774494465\n",
      "\n",
      "Iteración: 2\n",
      "287673.2952539691\n",
      "x1: 0.560240786321874, x2: 2.093666216190033, x3: 0.757030915315587\n",
      "\n",
      "Iteración: 3\n",
      "17814.616768636002\n",
      "x1: 1.2458042056300664, x2: -2.3950747233038854, x3: 3.189956961729334\n",
      "\n",
      "Iteración: 4\n",
      "164223.42302836812\n"
     ]
    },
    {
     "ename": "ValueError",
     "evalue": "math domain error",
     "output_type": "error",
     "traceback": [
      "\u001b[1;31m---------------------------------------------------------------------------\u001b[0m",
      "\u001b[1;31mValueError\u001b[0m                                Traceback (most recent call last)",
      "Cell \u001b[1;32mIn[18], line 18\u001b[0m\n\u001b[0;32m     13\u001b[0m     \u001b[38;5;28;01mbreak\u001b[39;00m\n\u001b[0;32m     15\u001b[0m \u001b[38;5;66;03m# Buscamos obtener: delta_x=-J(x_i)^-1*F(x_i)\u001b[39;00m\n\u001b[0;32m     16\u001b[0m \n\u001b[0;32m     17\u001b[0m \u001b[38;5;66;03m# Conseguimos -F(x_i)\u001b[39;00m\n\u001b[1;32m---> 18\u001b[0m F1 \u001b[38;5;241m=\u001b[39m x1\u001b[38;5;241m*\u001b[39mlog(x2) \u001b[38;5;241m+\u001b[39m x2\u001b[38;5;241m*\u001b[39mx3 \u001b[38;5;241m-\u001b[39m \u001b[38;5;241m3\u001b[39m\n\u001b[0;32m     19\u001b[0m F2 \u001b[38;5;241m=\u001b[39m (x1\u001b[38;5;241m*\u001b[39m\u001b[38;5;241m*\u001b[39m\u001b[38;5;241m2\u001b[39m) \u001b[38;5;241m+\u001b[39m sin(x2) \u001b[38;5;241m-\u001b[39m x3 \u001b[38;5;241m-\u001b[39m \u001b[38;5;241m1\u001b[39m\n\u001b[0;32m     20\u001b[0m F3 \u001b[38;5;241m=\u001b[39m (e\u001b[38;5;241m*\u001b[39m\u001b[38;5;241m*\u001b[39m(x1\u001b[38;5;241m*\u001b[39mx2)) \u001b[38;5;241m+\u001b[39m (x3\u001b[38;5;241m*\u001b[39m\u001b[38;5;241m*\u001b[39m\u001b[38;5;241m2\u001b[39m) \u001b[38;5;241m-\u001b[39m \u001b[38;5;241m4\u001b[39m\n",
      "\u001b[1;31mValueError\u001b[0m: math domain error"
     ]
    }
   ],
   "source": [
    "# Encontraremos un detalle respecto a estos valores\n",
    "x1 = 1\n",
    "x2 = 1\n",
    "x3 = 1\n",
    "X = [x1, x2, x3]\n",
    "\n",
    "E = [100, 100, 100]\n",
    "for a in range(100):\n",
    "    print(\"Iteración:\", a)\n",
    "    print(sum(np.array(E)**2))\n",
    "    if all(e < 0.001 for e in E):\n",
    "        print(a+1, \"iteraciones para todo error RP < 0.001%\")\n",
    "        break\n",
    "    \n",
    "    # Buscamos obtener: delta_x=-J(x_i)^-1*F(x_i)\n",
    "    \n",
    "    # Conseguimos -F(x_i)\n",
    "    F1 = x1*log(x2) + x2*x3 - 3\n",
    "    F2 = (x1**2) + sin(x2) - x3 - 1\n",
    "    F3 = (e**(x1*x2)) + (x3**2) - 4\n",
    "    \n",
    "    # Detalle: aquí cada una entra negativa\n",
    "    # porque el método iguala a -F(x_i)\n",
    "    F = np.array([F1, F2, F3])\n",
    "    \n",
    "    # Obtenemos J(x_i)\n",
    "    dF1dx1 = log(x2)\n",
    "    dF1dx2 = (x1/x2) + x3\n",
    "    dF1dx3 = x2\n",
    "\n",
    "    dF2dx1 = 2*x1\n",
    "    dF2dx2 = cos(x2)\n",
    "    dF2dx3 = -1\n",
    "\n",
    "    dF3dx1 = x2*(e**(x1*x2))\n",
    "    dF3dx2 = x1*(e**(x1*x2))\n",
    "    dF3dx3 = 2*x3\n",
    "\n",
    "    J = [ [dF1dx1, dF1dx2, dF1dx3],\n",
    "          [dF2dx1, dF2dx2, dF2dx3],\n",
    "          [dF3dx1, dF3dx2, dF3dx3] ]\n",
    "    \n",
    "    J_inv = np.linalg.inv(J)\n",
    "    \n",
    "    # obtener delta_x\n",
    "    d1, d2, d3 = - J_inv @ F\n",
    "    D = [d1, d2, d3]\n",
    "    \n",
    "    # Cálculo de Errores\n",
    "    for i in range(len(D)):\n",
    "        E[i] = abs(D[i]/X[i]) * 100\n",
    "    \n",
    "    # Ajustamos este cambio en las x ya que calculamos una diferencia\n",
    "    x1 += d1\n",
    "    x2 += d2\n",
    "    x3 += d3\n",
    "    \n",
    "    X = [x1, x2, x3]\n",
    "    print(f\"x1: {x1}, x2: {x2}, x3: {x3}\")\n",
    "    print(\"\")"
   ]
  },
  {
   "cell_type": "markdown",
   "id": "946af2f1",
   "metadata": {},
   "source": [
    "# ¿Qué ocurre?\n",
    "## El método de Newton es muy susceptible a cambios en las condiciones iniciales; necesitamos una buena aproximación inicial de los datos para llegar a converger"
   ]
  },
  {
   "cell_type": "code",
   "execution_count": 15,
   "id": "19839994",
   "metadata": {
    "scrolled": false
   },
   "outputs": [
    {
     "name": "stdout",
     "output_type": "stream",
     "text": [
      "Valores iniciales: [1 1 5]\n",
      "Solución: [-1.44454295  2.02231739  1.98648878]\n",
      "Valores iniciales: [1 5 5]\n",
      "Solución: [4.5300901e-01 8.8901377e+01 1.0878545e-02]\n",
      "Valores iniciales: [3 4 3]\n",
      "Solución: [ 0.05681635 23.70519287  0.11590281]\n",
      "Valores iniciales: [3 5 1]\n",
      "Solución: [-1.44454295  2.02231739  1.98648878]\n",
      "Valores iniciales: [3 5 2]\n",
      "Solución: [-1.44454295  2.02231739  1.98648878]\n",
      "Valores iniciales: [4 5 2]\n",
      "Solución: [3.03106426e-02 4.57001285e+01 6.31059051e-02]\n",
      "Valores iniciales: [4 5 3]\n",
      "Solución: [ 0.0440362  31.35214348  0.09061318]\n",
      "Valores iniciales: [4 5 5]\n",
      "Solución: [2.15182968e-02 6.43988273e+01 4.51919834e-02]\n",
      "Valores iniciales: [5 4 4]\n",
      "Solución: [2.79200073e-01 4.58239371e+01 4.21623923e-02]\n",
      "Valores iniciales: [5 5 2]\n",
      "Solución: [3.51915799e-02 3.93507418e+01 7.29452958e-02]\n",
      "Valores iniciales: [5 5 4]\n",
      "Solución: [-1.44454295  2.02231739  1.98648878]\n"
     ]
    },
    {
     "name": "stderr",
     "output_type": "stream",
     "text": [
      "C:\\Users\\pedro\\AppData\\Local\\Temp\\ipykernel_14468\\1473014091.py:44: RuntimeWarning: overflow encountered in scalar power\n",
      "  F3 = lambda x1, x2, x3: (e**(x1*x2)) + (x3**2) - 4\n",
      "C:\\Users\\pedro\\AppData\\Local\\Temp\\ipykernel_14468\\1473014091.py:20: RuntimeWarning: invalid value encountered in subtract\n",
      "  J[:, i] = (f_x_h - f_x) / h\n"
     ]
    }
   ],
   "source": [
    "def input_functions(n):\n",
    "    functions = []\n",
    "    for i in range(n):\n",
    "        func_str = input(f\"Introduce la función f_{i+1}(x1, ..., xn): \")\n",
    "        functions.append(eval(f\"lambda x: {func_str}\"))\n",
    "    return functions\n",
    "\n",
    "def evaluate_functions(functions, X):\n",
    "    x1, x2, x3 = X\n",
    "    return np.array([func(x1, x2, x3) for func in functions], dtype=float)\n",
    "\n",
    "def jacobian_matrix(functions, x, h=1e-8):\n",
    "    n = len(x)\n",
    "    J = np.zeros((n, n))\n",
    "    for i in range(n):\n",
    "        x_h = np.copy(x)\n",
    "        x_h[i] += h\n",
    "        f_x_h = evaluate_functions(functions, x_h)\n",
    "        f_x = evaluate_functions(functions, x)\n",
    "        J[:, i] = (f_x_h - f_x) / h\n",
    "    return J\n",
    "\n",
    "def newton_method_general(functions, x0, tol=1e-5, max_iter=100):\n",
    "    X = np.array(x0, dtype=float)\n",
    "#     print(f\"{'Iteración':<10}{'x':<20}{'Δx':<20}{'Error Relativo (%)':<20}\")\n",
    "    for k in range(max_iter):\n",
    "        Fx = evaluate_functions(functions, X)\n",
    "        Jx = jacobian_matrix(functions, X)\n",
    "        Jx_inv = np.linalg.inv(Jx)\n",
    "        delta_x = -Jx_inv @ Fx\n",
    "        x_new = X + delta_x\n",
    "        error_relativo = np.linalg.norm(delta_x / (X + 1e-10)) * 100  # Evitar división por cero\n",
    "#         print(\"\")\n",
    "#         print(f\"{k:<10}{X[0]:<20.10f}{delta_x[0]:<20.10f}{error_relativo:<20.10f}\")\n",
    "#         print(f\"{k:<10}{X[1]:<20.10f}{delta_x[1]:<20.10f}\")\n",
    "#         print(f\"{k:<10}{X[2]:<20.10f}{delta_x[2]:<20.10f}\")\n",
    "        X = x_new\n",
    "        if error_relativo < tol:\n",
    "            break\n",
    "    return X\n",
    "\n",
    "F1 = lambda x1, x2, x3: x1*log(x2) + x2*x3 - 3\n",
    "F2 = lambda x1, x2, x3: (x1**2) + sin(x2) - x3 - 1\n",
    "F3 = lambda x1, x2, x3: (e**(x1*x2)) + (x3**2) - 4\n",
    "functions = [F1, F2, F3]\n",
    "\n",
    "check_range = range(1, 6)\n",
    "for x1 in check_range:\n",
    "    for x2 in check_range:\n",
    "        for x3 in check_range:\n",
    "            x0 = np.array([x1, x2, x3])\n",
    "            try: \n",
    "                solution = newton_method_general(functions, x0)\n",
    "                if (any(np.isnan(solution))):\n",
    "                    continue\n",
    "                print(\"Valores iniciales:\", x0)\n",
    "                print(\"Solución:\", solution)\n",
    "            except: \n",
    "                pass\n",
    "    \n"
   ]
  },
  {
   "cell_type": "code",
   "execution_count": 16,
   "id": "3813ddf0",
   "metadata": {},
   "outputs": [
    {
     "name": "stdout",
     "output_type": "stream",
     "text": [
      "In. Guess: [0.5704243  2.05032555 0.98733924]\n",
      "x1: 0.5704242995175014, x2: 2.050325551657951, x3: 0.987339235337896\n",
      "\n",
      "x1: 2807.3026268770604, x2: -26838.00033019941, x3: 15585.23644919352\n",
      "\n"
     ]
    },
    {
     "ename": "ValueError",
     "evalue": "math domain error",
     "output_type": "error",
     "traceback": [
      "\u001b[1;31m---------------------------------------------------------------------------\u001b[0m",
      "\u001b[1;31mValueError\u001b[0m                                Traceback (most recent call last)",
      "Cell \u001b[1;32mIn[16], line 56\u001b[0m\n\u001b[0;32m     53\u001b[0m \u001b[38;5;28mprint\u001b[39m(\u001b[38;5;124m\"\u001b[39m\u001b[38;5;124mIn. Guess:\u001b[39m\u001b[38;5;124m\"\u001b[39m, initial_guess_refined)\n\u001b[0;32m     55\u001b[0m \u001b[38;5;66;03m# Solve the system using refined initial guess\u001b[39;00m\n\u001b[1;32m---> 56\u001b[0m solution, iter_values \u001b[38;5;241m=\u001b[39m newton_method(initial_guess_refined)\n\u001b[0;32m     58\u001b[0m \u001b[38;5;66;03m# Display the solution and first 3 iterations\u001b[39;00m\n\u001b[0;32m     59\u001b[0m solution, iter_values[:\u001b[38;5;241m3\u001b[39m]\n",
      "Cell \u001b[1;32mIn[16], line 38\u001b[0m, in \u001b[0;36mnewton_method\u001b[1;34m(initial_guess, tol, max_iter)\u001b[0m\n\u001b[0;32m     36\u001b[0m \u001b[38;5;28mprint\u001b[39m(\u001b[38;5;124mf\u001b[39m\u001b[38;5;124m\"\u001b[39m\u001b[38;5;124mx1: \u001b[39m\u001b[38;5;132;01m{\u001b[39;00mx[\u001b[38;5;241m0\u001b[39m]\u001b[38;5;132;01m}\u001b[39;00m\u001b[38;5;124m, x2: \u001b[39m\u001b[38;5;132;01m{\u001b[39;00mx[\u001b[38;5;241m1\u001b[39m]\u001b[38;5;132;01m}\u001b[39;00m\u001b[38;5;124m, x3: \u001b[39m\u001b[38;5;132;01m{\u001b[39;00mx[\u001b[38;5;241m2\u001b[39m]\u001b[38;5;132;01m}\u001b[39;00m\u001b[38;5;124m\"\u001b[39m)\n\u001b[0;32m     37\u001b[0m \u001b[38;5;28mprint\u001b[39m(\u001b[38;5;124m\"\u001b[39m\u001b[38;5;124m\"\u001b[39m)\n\u001b[1;32m---> 38\u001b[0m f_val \u001b[38;5;241m=\u001b[39m equations(x)\n\u001b[0;32m     39\u001b[0m jacobian_val \u001b[38;5;241m=\u001b[39m jacobian(x)\n\u001b[0;32m     40\u001b[0m delta \u001b[38;5;241m=\u001b[39m np\u001b[38;5;241m.\u001b[39mlinalg\u001b[38;5;241m.\u001b[39msolve(jacobian_val, \u001b[38;5;241m-\u001b[39mf_val)\n",
      "Cell \u001b[1;32mIn[16], line 6\u001b[0m, in \u001b[0;36mequations\u001b[1;34m(vars)\u001b[0m\n\u001b[0;32m      4\u001b[0m \u001b[38;5;28;01mdef\u001b[39;00m \u001b[38;5;21mequations\u001b[39m(\u001b[38;5;28mvars\u001b[39m):\n\u001b[0;32m      5\u001b[0m     x1, x2, x3 \u001b[38;5;241m=\u001b[39m \u001b[38;5;28mvars\u001b[39m\n\u001b[1;32m----> 6\u001b[0m     F1 \u001b[38;5;241m=\u001b[39m x1\u001b[38;5;241m*\u001b[39mlog(x2) \u001b[38;5;241m+\u001b[39m x2\u001b[38;5;241m*\u001b[39mx3 \u001b[38;5;241m-\u001b[39m \u001b[38;5;241m3\u001b[39m\n\u001b[0;32m      7\u001b[0m     F2 \u001b[38;5;241m=\u001b[39m (x1\u001b[38;5;241m*\u001b[39m\u001b[38;5;241m*\u001b[39m\u001b[38;5;241m2\u001b[39m) \u001b[38;5;241m+\u001b[39m sin(x2) \u001b[38;5;241m-\u001b[39m x3 \u001b[38;5;241m-\u001b[39m \u001b[38;5;241m1\u001b[39m\n\u001b[0;32m      8\u001b[0m     F3 \u001b[38;5;241m=\u001b[39m (e\u001b[38;5;241m*\u001b[39m\u001b[38;5;241m*\u001b[39m(x1\u001b[38;5;241m*\u001b[39mx2)) \u001b[38;5;241m+\u001b[39m (x3\u001b[38;5;241m*\u001b[39m\u001b[38;5;241m*\u001b[39m\u001b[38;5;241m2\u001b[39m) \u001b[38;5;241m-\u001b[39m \u001b[38;5;241m4\u001b[39m\n",
      "\u001b[1;31mValueError\u001b[0m: math domain error"
     ]
    }
   ],
   "source": [
    "from scipy.optimize import least_squares\n",
    "\n",
    "# Define the system of equations with base-10 logarithm\n",
    "def equations(vars):\n",
    "    x1, x2, x3 = vars\n",
    "    F1 = x1*log(x2) + x2*x3 - 3\n",
    "    F2 = (x1**2) + sin(x2) - x3 - 1\n",
    "    F3 = (e**(x1*x2)) + (x3**2) - 4\n",
    "\n",
    "    return np.array([F1, F2, F3])\n",
    "\n",
    "# Define the Jacobian matrix with base-10 logarithm\n",
    "def jacobian(vars):\n",
    "    x1, x2, x3 = vars\n",
    "    dF1dx1 = log(x2)\n",
    "    dF1dx2 = (x1/x2) + x3\n",
    "    dF1dx3 = x2\n",
    "\n",
    "    dF2dx1 = 2*x1\n",
    "    dF2dx2 = cos(x2)\n",
    "    dF2dx3 = -1\n",
    "\n",
    "    dF3dx1 = x2*(e**(x1*x2))\n",
    "    dF3dx2 = x1*(e**(x1*x2))\n",
    "    dF3dx3 = 2*x3\n",
    "\n",
    "    return np.array([[dF1dx1, dF1dx2, dF1dx3],\n",
    "                     [dF2dx1, dF2dx2, dF2dx3],\n",
    "                     [dF3dx1, dF3dx2, dF3dx3]])\n",
    "\n",
    "# Newton's method\n",
    "def newton_method(initial_guess, tol=1e-6, max_iter=100):\n",
    "    x = np.array(initial_guess, dtype=float)\n",
    "    iter_values = []\n",
    "    for i in range(max_iter):\n",
    "        print(f\"x1: {x[0]}, x2: {x[1]}, x3: {x[2]}\")\n",
    "        print(\"\")\n",
    "        f_val = equations(x)\n",
    "        jacobian_val = jacobian(x)\n",
    "        delta = np.linalg.solve(jacobian_val, -f_val)\n",
    "        x = x + delta\n",
    "        iter_values.append(x.copy())\n",
    "        if np.linalg.norm(delta) < tol:\n",
    "            return x, iter_values  # Return solution and iteration values\n",
    "    raise Exception(\"Newton's method did not converge\")\n",
    "\n",
    "# Using least_squares to get a good initial guess with bounds\n",
    "initial_guess = [1, 1, 1]\n",
    "bounds = (0, np.inf)  # Set bounds to ensure variables stay positive\n",
    "\n",
    "result = least_squares(equations, initial_guess, bounds=bounds)\n",
    "initial_guess_refined = result.x\n",
    "print(\"In. Guess:\", initial_guess_refined)\n",
    "\n",
    "# Solve the system using refined initial guess\n",
    "solution, iter_values = newton_method(initial_guess_refined)\n",
    "\n",
    "# Display the solution and first 3 iterations\n",
    "solution, iter_values[:3]\n"
   ]
  },
  {
   "cell_type": "code",
   "execution_count": null,
   "id": "75fb1ff9",
   "metadata": {},
   "outputs": [],
   "source": []
  }
 ],
 "metadata": {
  "kernelspec": {
   "display_name": "Python 3 (ipykernel)",
   "language": "python",
   "name": "python3"
  },
  "language_info": {
   "codemirror_mode": {
    "name": "ipython",
    "version": 3
   },
   "file_extension": ".py",
   "mimetype": "text/x-python",
   "name": "python",
   "nbconvert_exporter": "python",
   "pygments_lexer": "ipython3",
   "version": "3.11.7"
  }
 },
 "nbformat": 4,
 "nbformat_minor": 5
}
