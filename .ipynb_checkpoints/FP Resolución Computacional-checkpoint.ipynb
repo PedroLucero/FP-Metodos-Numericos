{
 "cells": [
  {
   "cell_type": "code",
   "execution_count": 3,
   "id": "15bfeaca",
   "metadata": {},
   "outputs": [],
   "source": [
    "# Es importante instalar, por lo menos, math\n",
    "# ya que representaremos funciones trigonométricas, etc.\n",
    "# O maybe solo tomaremos las f. que necesitamos?\n",
    "from math import *"
   ]
  },
  {
   "cell_type": "markdown",
   "id": "299212d2",
   "metadata": {},
   "source": [
    "#### Como pequeño prefacio definimos doolittle para matrices 3x3 ya que se resolverán muchísimos sistemas lineales"
   ]
  },
  {
   "cell_type": "code",
   "execution_count": 2,
   "id": "e7b846ab",
   "metadata": {},
   "outputs": [],
   "source": [
    "# Esto se puede generalizar, por ahora solo busco que sirva\n",
    "def doolittle3x3(A, b):\n",
    "    u11, u12, u13 = A[0]\n",
    "    l21 = A[1][0]/u11\n",
    "    l31 = A[2][0]/u11\n",
    "    u22 = A[1][1] - l21*u12\n",
    "    u23 = A[1][2] - l21*u13\n",
    "    l32 = (A[2][1] - l31*u12)/u22\n",
    "    u33 = A[2][2] - l31*u13 - l32*u23\n",
    "    \n",
    "    y1 = b[0]\n",
    "    y2 = b[1] - l21*y1\n",
    "    y3 = b[2] - l31*y1 - l32*y2\n",
    "    \n",
    "    x3 = y3/u33\n",
    "    x2 = (y2 - u23*x3)/u22\n",
    "    x1 = (y1 - u13*x3 - u12*x2)/u11\n",
    "    \n",
    "    return x1, x2, x3"
   ]
  },
  {
   "cell_type": "markdown",
   "id": "afcdee81",
   "metadata": {},
   "source": [
    "# Problema 1\n",
    "## Optimización en Redes de Transporte"
   ]
  },
  {
   "cell_type": "code",
   "execution_count": 4,
   "id": "0479b23a",
   "metadata": {},
   "outputs": [],
   "source": [
    "# Definimos cada x_i y el vector X\n",
    "# x1 = 1.43050\n",
    "# x2 = 1.16860\n",
    "# x3 = 0.63091\n",
    "# Tenemos problemas con los valores iniciales\n",
    "x1 = 1\n",
    "x2 = 1\n",
    "x3 = 1\n",
    "X = [x1, x2, x3]\n",
    "\n",
    "# Estas son las diferencias de x (deltas)\n",
    "d1 = 0\n",
    "d2 = 0\n",
    "d3 = 0\n",
    "D = [d1, d2, d3]\n",
    "\n",
    "E = [100, 100, 100] # Para almacenar errores relativos"
   ]
  },
  {
   "cell_type": "code",
   "execution_count": 5,
   "id": "9307250a",
   "metadata": {},
   "outputs": [],
   "source": [
    "# Definimos nuestras F(x) para crear el vector\n",
    "F1 = x1**2 + x2**2 + x3 - 4\n",
    "F2 = x1*sin(x2) - x3**2 - 1\n",
    "F3 = log(x1*x2) + x3 - 1"
   ]
  },
  {
   "cell_type": "code",
   "execution_count": 6,
   "id": "38b5e63f",
   "metadata": {},
   "outputs": [],
   "source": [
    "# Definimos las derivadas parciales para J(x)\n",
    "dF1dx1 = 2*x1\n",
    "dF1dx2 = 2*x2\n",
    "dF1dx3 = 1\n",
    "\n",
    "dF2dx1 = sin(x2)\n",
    "dF2dx2 = x1*cos(x2)\n",
    "dF2dx3 = -2*x3\n",
    "\n",
    "dF3dx1 = 1/x1\n",
    "dF3dx2 = 1/x2\n",
    "dF3dx3 = 1\n",
    "\n",
    "J = [ [dF1dx1, dF1dx2, dF1dx3],\n",
    "      [dF2dx1, dF2dx2, dF2dx3],\n",
    "      [dF3dx1, dF3dx2, dF3dx3] ]"
   ]
  },
  {
   "cell_type": "code",
   "execution_count": 7,
   "id": "90007c4e",
   "metadata": {
    "scrolled": true
   },
   "outputs": [
    {
     "name": "stdout",
     "output_type": "stream",
     "text": [
      "6 iteraciones para todo error RP < 0.001%\n"
     ]
    }
   ],
   "source": [
    "# Ta raro iniciar con todas x = 1\n",
    "x1 = 2\n",
    "x2 = 1\n",
    "x3 = 0.5\n",
    "X = [x1, x2, x3]\n",
    "E = [100, 100, 100]\n",
    "for a in range(100):\n",
    "    if all(e < 0.001 for e in E):\n",
    "        print(a+1, \"iteraciones para todo error RP < 0.001%\")\n",
    "        break\n",
    "        \n",
    "    # Buscamos obtener: J(x_i)*delta_x=-F(x_i)\n",
    "    \n",
    "    # Conseguimos -F(x_i)\n",
    "    F1 = (x1**2) + (x2**2) + x3 - 4\n",
    "    F2 = x1*sin(x2) - (x3**2) - 1\n",
    "    F3 = log(x1*x2) + x3 - 1 # Detalle aquí\n",
    "#     print(round(F1, 2), round(F2, 2), round(F3, 2))\n",
    "    \n",
    "    # Detalle: aquí cada una entra negativa\n",
    "    # porque el método iguala a -F(x_i)\n",
    "    F = [-F1, -F2, -F3] \n",
    "    \n",
    "    # Obtenemos J(x_i)\n",
    "    dF1dx1 = 2*x1\n",
    "    dF1dx2 = 2*x2\n",
    "    dF1dx3 = 1\n",
    "\n",
    "    dF2dx1 = sin(x2)\n",
    "    dF2dx2 = x1*cos(x2)\n",
    "    dF2dx3 = -2*x3\n",
    "\n",
    "    dF3dx1 = 1/(x1)\n",
    "    dF3dx2 = 1/(x2)\n",
    "    dF3dx3 = 1\n",
    "\n",
    "    J = [ [dF1dx1, dF1dx2, dF1dx3],\n",
    "          [dF2dx1, dF2dx2, dF2dx3],\n",
    "          [dF3dx1, dF3dx2, dF3dx3] ]\n",
    "    \n",
    "    # Resolvemos sistema lineal vía Doolittle para\n",
    "    # obtener delta_x\n",
    "    d1, d2, d3 = doolittle3x3(J, F)\n",
    "    D = [d1, d2, d3]\n",
    "    \n",
    "    \n",
    "    # Cálculo de Errores\n",
    "    for i in range(len(D)):\n",
    "        E[i] = abs(D[i]/X[i]) * 100\n",
    "    \n",
    "    # Ajustamos este cambio en las x ya que calculamos una diferencia\n",
    "    x1 += d1\n",
    "    x2 += d2\n",
    "    x3 += d3\n",
    "    X = [x1, x2, x3]"
   ]
  },
  {
   "cell_type": "code",
   "execution_count": 8,
   "id": "a11f4be0",
   "metadata": {},
   "outputs": [
    {
     "data": {
      "text/plain": [
       "[1.5677493833913456, 0.9916994063964282, 0.5586941582290521]"
      ]
     },
     "execution_count": 8,
     "metadata": {},
     "output_type": "execute_result"
    }
   ],
   "source": [
    "X"
   ]
  },
  {
   "cell_type": "markdown",
   "id": "53a7e88c",
   "metadata": {},
   "source": [
    "# Problema 2"
   ]
  },
  {
   "cell_type": "code",
   "execution_count": 9,
   "id": "90e5264e",
   "metadata": {},
   "outputs": [],
   "source": [
    "# Definimos cada x_i y el vector X\n",
    "x1 = 1\n",
    "x2 = 1\n",
    "x3 = 1\n",
    "X = [x1, x2, x3]\n",
    "\n",
    "# Estas son las diferencias de x (deltas)\n",
    "d1 = 0\n",
    "d2 = 0\n",
    "d3 = 0\n",
    "D = [d1, d2, d3]\n",
    "\n",
    "E = [100, 100, 100] # Para almacenar errores relativos"
   ]
  },
  {
   "cell_type": "code",
   "execution_count": 10,
   "id": "91c8115f",
   "metadata": {},
   "outputs": [],
   "source": [
    "F1 = (x1**3) - x2*cos(x3) - 2\n",
    "F2 = (x1**2) + (x2**2) + (x3**2) - 3\n",
    "F3 = (e**x1) + x2 - x3 - 1"
   ]
  },
  {
   "cell_type": "code",
   "execution_count": 11,
   "id": "88f135a2",
   "metadata": {},
   "outputs": [],
   "source": [
    "# Obtenemos J(x_i)\n",
    "dF1dx1 = 3*x1**2\n",
    "dF1dx2 = cos(x3)\n",
    "dF1dx3 = -x2*sin(x3)\n",
    "\n",
    "dF2dx1 = 2*x1\n",
    "dF2dx2 = 2*x2\n",
    "dF2dx3 = 2*x3\n",
    "\n",
    "dF3dx1 = e**x1\n",
    "dF3dx2 = 1\n",
    "dF3dx3 = -1\n",
    "\n",
    "J = [ [dF1dx1, dF1dx2, dF1dx3],\n",
    "      [dF2dx1, dF2dx2, dF2dx3],\n",
    "      [dF3dx1, dF3dx2, dF3dx3] ]"
   ]
  },
  {
   "cell_type": "code",
   "execution_count": 120,
   "id": "7bc10918",
   "metadata": {},
   "outputs": [],
   "source": [
    "for a in range(100):\n",
    "#     print(a)\n",
    "#     print(E)\n",
    "    if all(e < 0.001 for e in E):\n",
    "        print(a+1, \"iteraciones para todo error RP < 0.001%\")\n",
    "        break\n",
    "    \n",
    "    # Buscamos obtener: J(x_i)*delta_x=-F(x_i)\n",
    "    \n",
    "    # Conseguimos -F(x_i)\n",
    "    F1 = (x1**3) - x2*cos(x3) - 2\n",
    "    F2 = (x1**2) + (x2**2) + (x3**2) - 3\n",
    "    F3 = (e**x1) + x2 - x3 - 1\n",
    "    \n",
    "    # Detalle: aquí cada una entra negativa\n",
    "    # porque el método iguala a -F(x_i)\n",
    "    F = [-F1, -F2, -F3] \n",
    "    \n",
    "    # Obtenemos J(x_i)\n",
    "    dF1dx1 = 3*x1**2\n",
    "    dF1dx2 = cos(x3)\n",
    "    dF1dx3 = -x2*sin(x3)\n",
    "\n",
    "    dF2dx1 = 2*x1\n",
    "    dF2dx2 = 2*x2\n",
    "    dF2dx3 = 2*x3\n",
    "\n",
    "    dF3dx1 = e**x1\n",
    "    dF3dx2 = 1\n",
    "    dF3dx3 = -1\n",
    "\n",
    "    J = [ [dF1dx1, dF1dx2, dF1dx3],\n",
    "          [dF2dx1, dF2dx2, dF2dx3],\n",
    "          [dF3dx1, dF3dx2, dF3dx3] ]\n",
    "    \n",
    "    # Resolvemos sistema lineal vía Doolittle para\n",
    "    # obtener delta_x\n",
    "    d1, d2, d3 = doolittle3x3(J, F)\n",
    "    D = [d1, d2, d3]\n",
    "    \n",
    "    # Cálculo de Errores\n",
    "    for i in range(len(D)):\n",
    "        E[i] = abs(D[i]/X[i]) * 100\n",
    "    \n",
    "    # Ajustamos este cambio en las x ya que calculamos una diferencia\n",
    "    x1 += d1\n",
    "    x2 += d2\n",
    "    x3 += d3\n",
    "    \n",
    "    X = [x1, x2, x3]"
   ]
  },
  {
   "cell_type": "code",
   "execution_count": 121,
   "id": "e672b913",
   "metadata": {},
   "outputs": [
    {
     "data": {
      "text/plain": [
       "[194.224937969212, -5013711.472001046, -423944.27761050826]"
      ]
     },
     "execution_count": 121,
     "metadata": {},
     "output_type": "execute_result"
    }
   ],
   "source": [
    "X"
   ]
  },
  {
   "cell_type": "markdown",
   "id": "11775fc2",
   "metadata": {},
   "source": [
    "# Problema 3"
   ]
  },
  {
   "cell_type": "code",
   "execution_count": 14,
   "id": "e504549a",
   "metadata": {},
   "outputs": [],
   "source": [
    "# Definimos cada x_i y el vector X\n",
    "x1 = 1\n",
    "x2 = 1\n",
    "x3 = 1\n",
    "X = [x1, x2, x3]\n",
    "\n",
    "# Estas son las diferencias de x (deltas)\n",
    "d1 = 0\n",
    "d2 = 0\n",
    "d3 = 0\n",
    "D = [d1, d2, d3]\n",
    "\n",
    "E = [100, 100, 100] # Para almacenar errores relativos"
   ]
  },
  {
   "cell_type": "code",
   "execution_count": 15,
   "id": "4e8ba3aa",
   "metadata": {},
   "outputs": [],
   "source": [
    "F1 = x1*log(x2) + x2*x3 - 3\n",
    "F2 = (x1**2) + sin(x2) - x3 - 1\n",
    "F3 = exp(x1*x2) + x3**2 - 4"
   ]
  },
  {
   "cell_type": "code",
   "execution_count": 16,
   "id": "bd087a13",
   "metadata": {},
   "outputs": [],
   "source": [
    "# Obtenemos J(x_i)\n",
    "dF1dx1 = log(x2)\n",
    "dF1dx2 = (x1/x2) + x3\n",
    "dF1dx3 = x2\n",
    "\n",
    "dF2dx1 = 2*x1\n",
    "dF2dx2 = cos(x2)\n",
    "dF2dx3 = -1\n",
    "\n",
    "dF3dx1 = x2*exp(x1*x2)\n",
    "dF3dx2 = x1*exp(x1*x2)\n",
    "dF3dx3 = 2*x3\n",
    "\n",
    "J = [ [dF1dx1, dF1dx2, dF1dx3],\n",
    "      [dF2dx1, dF2dx2, dF2dx3],\n",
    "      [dF3dx1, dF3dx2, dF3dx3] ]"
   ]
  },
  {
   "cell_type": "code",
   "execution_count": 17,
   "id": "559155e2",
   "metadata": {},
   "outputs": [],
   "source": [
    "for a in range(100):\n",
    "#     print(a)\n",
    "#     print(E)\n",
    "    if all(e < 0.001 for e in E):\n",
    "        print(a+1, \"iteraciones para todo error RP < 0.001%\")\n",
    "        break\n",
    "    \n",
    "    # Buscamos obtener: J(x_i)*delta_x=-F(x_i)\n",
    "    \n",
    "    # Conseguimos -F(x_i)\n",
    "    F1 = (x1**3) - x2*cos(x3) - 2\n",
    "    F2 = (x1**2) + (x2**2) + (x3**2) - 3\n",
    "    F3 = (e**x1) + x2 - x3 - 1\n",
    "    \n",
    "    # Detalle: aquí cada una entra negativa\n",
    "    # porque el método iguala a -F(x_i)\n",
    "    F = [-F1, -F2, -F3] \n",
    "    \n",
    "    # Obtenemos J(x_i)\n",
    "    dF1dx1 = 3*x1**2\n",
    "    dF1dx2 = cos(x3)\n",
    "    dF1dx3 = -x2*sin(x3)\n",
    "\n",
    "    dF2dx1 = 2*x1\n",
    "    dF2dx2 = 2*x2\n",
    "    dF2dx3 = 2*x3\n",
    "\n",
    "    dF3dx1 = e**x1\n",
    "    dF3dx2 = 1\n",
    "    dF3dx3 = -1\n",
    "\n",
    "    J = [ [dF1dx1, dF1dx2, dF1dx3],\n",
    "          [dF2dx1, dF2dx2, dF2dx3],\n",
    "          [dF3dx1, dF3dx2, dF3dx3] ]\n",
    "    \n",
    "    # Resolvemos sistema lineal vía Doolittle para\n",
    "    # obtener delta_x\n",
    "    d1, d2, d3 = doolittle3x3(J, F)\n",
    "    D = [d1, d2, d3]\n",
    "    \n",
    "    # Cálculo de Errores\n",
    "    for i in range(len(D)):\n",
    "        E[i] = abs(D[i]/X[i]) * 100\n",
    "    \n",
    "    # Ajustamos este cambio en las x ya que calculamos una diferencia\n",
    "    x1 += d1\n",
    "    x2 += d2\n",
    "    x3 += d3\n",
    "    \n",
    "    X = [x1, x2, x3]"
   ]
  },
  {
   "cell_type": "code",
   "execution_count": null,
   "id": "b0a84446",
   "metadata": {},
   "outputs": [],
   "source": []
  }
 ],
 "metadata": {
  "kernelspec": {
   "display_name": "Python 3 (ipykernel)",
   "language": "python",
   "name": "python3"
  },
  "language_info": {
   "codemirror_mode": {
    "name": "ipython",
    "version": 3
   },
   "file_extension": ".py",
   "mimetype": "text/x-python",
   "name": "python",
   "nbconvert_exporter": "python",
   "pygments_lexer": "ipython3",
   "version": "3.11.7"
  }
 },
 "nbformat": 4,
 "nbformat_minor": 5
}
